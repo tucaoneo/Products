{
  "nbformat": 4,
  "nbformat_minor": 0,
  "metadata": {
    "colab": {
      "name": "barnesandnoble.com.ipynb",
      "provenance": [],
      "authorship_tag": "ABX9TyPj+iVW/6VlWh98yDbG9dTO"
    },
    "kernelspec": {
      "name": "python3",
      "display_name": "Python 3"
    },
    "language_info": {
      "name": "python"
    }
  },
  "cells": [
    {
      "cell_type": "markdown",
      "source": [
        "I would occasionally go to Barnes & Noble's physical stores. They are nice and cozy and it's always fun there to check out books, CDs and games there. But I rarely ended up buying anything.\n",
        "\n",
        "In the past two days I spent several hours on their website buying boardgames.\n",
        "\n",
        "Although I did buy something online (and pick up in store), the experience was far from satisfactory. The Barnes & Noble website is not doing its best to support its lovely brick and mortar stores. I found these issues.\n",
        "\n",
        "0. Elephant in the room: Barnes and Noble is no Amazon. Certain things I search are either not on the website or on the website but not available. Shipping may take longer too. But logistics is not what I want to talk about. I want to put aside giant warehouses or truck fleets that Amazon has, and talk about smaller issues.\n",
        "1. Barnesandnoble.com lists too many things that are \"Out of Stock Online\", yet there is no filter button. I do not have the option to see \"Available Online\" only, \"In Store at My Store\" only, etc.\n",
        "2. The website is not accurately tracking its inventory. I placed an order for something that was shown to be available for pickup at one store, which turned out to be false.\n",
        "3. When 2 happened, my pickup order was straight up cancelled. There was no attempt to salvage the order, like offering pickup at a different store, or shipping for free. \n",
        "\n",
        "> *   I would argue shipping for free (overriding the rule that free shipping requires a \\$35 minimum purchase) is the right thing to do at this point. Because (1) it demonstrates you care about the customer and makes an effort to fulfil the order instead of letting the customer go; (2) your inventory mismanagement should not end up punishing the customer, like still fulfilling their order but making them pick up at another store they did not choose, or worse, voiding their shopping experience altogether, which surprisingly is the current approach; and (3) if you worry this would generate a loss for you, good, it would incentivize you to avoid the same mistake going forward. And as a retailer, you always want to quickly address inventory mismanagement anyway.\n",
        "\n",
        "> *   As it happened, the order was cancelled with no further action on the seller's part. I went straight to Amazon, a competitor, and bought the same item.\n",
        "\n",
        "4. On many on-sales pages where I browse multiple items, their price is not shown. I have to click individual items to see price.\n",
        "\n",
        "5. Not every item for sale comes with a photo, which is already a huge problem. Adding to that, some photoless items only have an obscure name like \"Hw 3-Pack Themed Ast\", without description of what it is. This becomes less like merchandising, and more like a typo, an inside joke, or both.\n",
        "\n",
        "6. This may be just me but, barnesandnoble.com lists so many smaller, cheaper items that cause me to wonder, like: how is one plastic Harry Potter bookmark being sold for \\$2.95? Don't people get these things in bulk, or for free?"
      ],
      "metadata": {
        "id": "HwKP83dEZSV1"
      }
    }
  ]
}